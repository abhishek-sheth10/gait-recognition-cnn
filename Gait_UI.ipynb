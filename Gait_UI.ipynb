{
 "cells": [
  {
   "cell_type": "code",
   "execution_count": 121,
   "id": "italic-commonwealth",
   "metadata": {},
   "outputs": [],
   "source": [
    "import tkinter as tk\n",
    "\n",
    "from tkinter import filedialog\n",
    "\n",
    "from PIL import ImageTk,Image \n",
    "\n",
    "from skimage import transform\n",
    "\n",
    "import tensorflow as tf\n",
    "import numpy as np\n",
    "\n",
    "global img1"
   ]
  },
  {
   "cell_type": "code",
   "execution_count": 122,
   "id": "cubic-identity",
   "metadata": {},
   "outputs": [],
   "source": [
    "model = tf.keras.models.load_model('model.h5')"
   ]
  },
  {
   "cell_type": "code",
   "execution_count": 123,
   "id": "studied-entrepreneur",
   "metadata": {},
   "outputs": [],
   "source": [
    "def browseFiles():\n",
    "    global filename\n",
    "    filename = filedialog.askopenfilename(initialdir = \"/\",\n",
    "                                          title = \"Select a File\",\n",
    "                                          filetypes = ((\"Jpeg files\",\n",
    "                                                        \"*.jpg*\"),\n",
    "                                                       (\"Png files\",\n",
    "                                                        \"*.png*\")))\n",
    "    #label_file_explorer.configure(text=\"File Opened: \"+filename)\n",
    "    \n",
    "    subject = filename.split('/')\n",
    "    sub = subject[-2]\n",
    "                            \n",
    "    print(subject)\n",
    "    \n",
    "    label1 = tk.Label(middle_left, text=\"The person selected is \"+sub).pack()\n",
    "    \n",
    "    \n",
    "    canvas = tk.Canvas(top_left, width = 250, height = 250)  \n",
    "    canvas.grid(row=0, column=0, sticky='nesw', padx=0, pady=25) \n",
    "    img1 = ImageTk.PhotoImage(Image.open(filename)) \n",
    "    canvas.create_image(0, 0, anchor=tk.NW, image=img1)\n",
    "    canvas.img1 = img1\n",
    "    \n",
    "  "
   ]
  },
  {
   "cell_type": "code",
   "execution_count": 124,
   "id": "assumed-observation",
   "metadata": {},
   "outputs": [],
   "source": [
    "def neural():\n",
    "    np_image = Image.open(filename)\n",
    "    np_image = np.array(np_image).astype('float32')/255\n",
    "    np_image = transform.resize(np_image, (240, 240, 1))\n",
    "    np_image = np.expand_dims(np_image, axis=0)\n",
    "    \n",
    "    single_pred = model.predict(np_image) \n",
    "    predicted_class_indices=np.argmax(single_pred,axis=1)\n",
    "    \n",
    "    \n",
    "    label2 = tk.Label(middle_right, text=\"The prediction is \"+str((predicted_class_indices+1))).pack()\n",
    "    print(predicted_class_indices+1)\n",
    "    "
   ]
  },
  {
   "cell_type": "code",
   "execution_count": null,
   "id": "chubby-microphone",
   "metadata": {},
   "outputs": [],
   "source": []
  },
  {
   "cell_type": "code",
   "execution_count": 125,
   "id": "moving-insulation",
   "metadata": {},
   "outputs": [
    {
     "data": {
      "text/plain": [
       "''"
      ]
     },
     "execution_count": 125,
     "metadata": {},
     "output_type": "execute_result"
    }
   ],
   "source": [
    "window = tk.Tk()\n",
    "window.geometry(\"1000x700\")\n",
    "window.title('Gait Recognition using CNN')"
   ]
  },
  {
   "cell_type": "code",
   "execution_count": 126,
   "id": "driven-origin",
   "metadata": {},
   "outputs": [],
   "source": [
    "window.rowconfigure(0,weight=1)\n",
    "window.rowconfigure(1,weight=1)\n",
    "window.rowconfigure(2,weight=1)\n",
    "window.columnconfigure(0,weight=1)\n",
    "window.columnconfigure(1,weight=1)"
   ]
  },
  {
   "cell_type": "code",
   "execution_count": 127,
   "id": "proprietary-tender",
   "metadata": {},
   "outputs": [],
   "source": [
    "top_left = tk.Frame(window,bg=\"red\",width=400,height=300)\n",
    "top_right = tk.Frame(window, bg=\"green\", width=400, height=300)\n",
    "top_middle = tk.Frame(window, bg='yellow', width=200, height=300)\n",
    "\n",
    "middle_left = tk.Frame(window, bg='blue', width=400, height=300)\n",
    "middle = tk.Frame(window, bg='black', width=200, height=300)\n",
    "middle_right = tk.Frame(window, bg='white', width=400, height=300)\n",
    "\n",
    "\n",
    "\n",
    "fr_buttons = tk.Frame(window,width=1000,height=100)\n",
    "btn_open = tk.Button(fr_buttons, text=\"Open\",command = browseFiles)\n",
    "btn_pred = tk.Button(fr_buttons, text=\"Predict\",command = neural)"
   ]
  },
  {
   "cell_type": "code",
   "execution_count": 128,
   "id": "competent-stick",
   "metadata": {},
   "outputs": [],
   "source": [
    "btn_open.grid(row=2, column=2, sticky=\"ew\", padx=5, pady=5)\n",
    "btn_pred.grid(row=2, column=3, sticky=\"ew\", padx=10, pady=10)"
   ]
  },
  {
   "cell_type": "code",
   "execution_count": 129,
   "id": "champion-floor",
   "metadata": {},
   "outputs": [],
   "source": [
    "fr_buttons.grid(row=2, column=1,sticky=\"ns\")\n",
    "\n",
    "top_left.grid(row=0, column=0,padx=0,pady=0,sticky=\"ns\")\n",
    "top_middle.grid(row=0, column=1)\n",
    "top_right.grid(row=0, column=2)\n",
    "\n",
    "middle_left.grid(row=1, column=0)\n",
    "middle.grid(row=1, column=1)\n",
    "middle_right.grid(row=1, column=2)"
   ]
  },
  {
   "cell_type": "code",
   "execution_count": 130,
   "id": "native-senator",
   "metadata": {},
   "outputs": [],
   "source": [
    "window.mainloop()"
   ]
  },
  {
   "cell_type": "code",
   "execution_count": null,
   "id": "joined-image",
   "metadata": {},
   "outputs": [],
   "source": []
  },
  {
   "cell_type": "code",
   "execution_count": null,
   "id": "pressed-weekend",
   "metadata": {},
   "outputs": [],
   "source": []
  },
  {
   "cell_type": "code",
   "execution_count": null,
   "id": "working-criminal",
   "metadata": {},
   "outputs": [],
   "source": []
  },
  {
   "cell_type": "code",
   "execution_count": null,
   "id": "welsh-facility",
   "metadata": {},
   "outputs": [],
   "source": []
  },
  {
   "cell_type": "code",
   "execution_count": null,
   "id": "false-organizer",
   "metadata": {},
   "outputs": [],
   "source": []
  }
 ],
 "metadata": {
  "kernelspec": {
   "display_name": "Python 3",
   "language": "python",
   "name": "python3"
  },
  "language_info": {
   "codemirror_mode": {
    "name": "ipython",
    "version": 3
   },
   "file_extension": ".py",
   "mimetype": "text/x-python",
   "name": "python",
   "nbconvert_exporter": "python",
   "pygments_lexer": "ipython3",
   "version": "3.7.6"
  }
 },
 "nbformat": 4,
 "nbformat_minor": 5
}
