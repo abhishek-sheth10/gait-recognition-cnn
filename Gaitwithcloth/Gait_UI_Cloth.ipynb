{
 "cells": [
  {
   "cell_type": "code",
   "execution_count": 49,
   "id": "answering-knife",
   "metadata": {},
   "outputs": [],
   "source": [
    "import tkinter as tk\n",
    "\n",
    "from tkinter import filedialog\n",
    "\n",
    "from PIL import ImageTk,Image \n",
    "\n",
    "from skimage import transform\n",
    "\n",
    "import tensorflow as tf\n",
    "import numpy as np\n",
    "\n",
    "global img1"
   ]
  },
  {
   "cell_type": "code",
   "execution_count": 50,
   "id": "heated-training",
   "metadata": {},
   "outputs": [],
   "source": [
    "model = tf.keras.models.load_model('modelfullwithcloth.h5')"
   ]
  },
  {
   "cell_type": "code",
   "execution_count": 51,
   "id": "assisted-thanksgiving",
   "metadata": {},
   "outputs": [],
   "source": [
    "global p\n",
    "p=0"
   ]
  },
  {
   "cell_type": "code",
   "execution_count": 52,
   "id": "passive-wireless",
   "metadata": {},
   "outputs": [],
   "source": [
    "def browseFiles():\n",
    "    \n",
    "    global filename\n",
    "    global p\n",
    "    global label1\n",
    "    #p=0\n",
    "    \n",
    "    print(p)\n",
    "    if p>=1:\n",
    "        label1.destroy()\n",
    "        label2.destroy()\n",
    "    \n",
    "    filename = filedialog.askopenfilename(initialdir = \"/\",\n",
    "                                          title = \"Select a File\",\n",
    "                                          filetypes = ((\"PNG Files\",\n",
    "                                                        \"*.png*\"),\n",
    "                                                       (\"JPG Files\",\n",
    "                                                        \"*.jpg*\")))\n",
    "    #label_file_explorer.configure(text=\"File Opened: \"+filename)\n",
    "    \n",
    "    subject = filename.split('/')\n",
    "    sub = subject[-1][0:3]\n",
    "                            \n",
    "    print(subject)\n",
    "    \n",
    "    label1 = tk.Label(middle_left, text=\"The person selected is \"+sub)\n",
    "    label1.config(font=(\"Courier\", 13))\n",
    "    label1.pack()\n",
    "    \n",
    "    \n",
    "    canvas = tk.Canvas(top_left, width = 240, height = 240)  \n",
    "    canvas.grid(row=0, column=0, sticky='nesw', padx=0, pady=25) \n",
    "    img1 = ImageTk.PhotoImage(Image.open(filename)) \n",
    "    canvas.create_image(0, 0, anchor=tk.NW, image=img1)\n",
    "    canvas.img1 = img1\n",
    "    \n",
    "    \n",
    "    \n",
    "    \n",
    "  "
   ]
  },
  {
   "cell_type": "code",
   "execution_count": 53,
   "id": "portuguese-vintage",
   "metadata": {},
   "outputs": [],
   "source": [
    "def neural():\n",
    "    \n",
    "    global p\n",
    "    global label2\n",
    "    #p=0\n",
    "    \n",
    "    np_image = Image.open(filename)\n",
    "    np_image = np.array(np_image).astype('float32')/255\n",
    "    np_image = transform.resize(np_image, (240, 240, 1))\n",
    "    np_image = np.expand_dims(np_image, axis=0)\n",
    "    \n",
    "    single_pred = model.predict(np_image) \n",
    "    predicted_class_indices=np.argmax(single_pred,axis=1)\n",
    "    \n",
    "    \n",
    "    \n",
    "    label2 = tk.Label(middle_right, text=\"The prediction is \"+str((predicted_class_indices+1)) , justify = \"left\")\n",
    "    label2.config(font=(\"Courier\", 13))\n",
    "    label2.pack()\n",
    "    \n",
    "    p+=1\n",
    "    print(predicted_class_indices+1)\n",
    "    "
   ]
  },
  {
   "cell_type": "code",
   "execution_count": null,
   "id": "flexible-stick",
   "metadata": {},
   "outputs": [],
   "source": []
  },
  {
   "cell_type": "code",
   "execution_count": 54,
   "id": "raising-butler",
   "metadata": {},
   "outputs": [
    {
     "data": {
      "text/plain": [
       "''"
      ]
     },
     "execution_count": 54,
     "metadata": {},
     "output_type": "execute_result"
    }
   ],
   "source": [
    "window = tk.Tk()\n",
    "window.geometry(\"1000x700\")\n",
    "window.title('Gait Recognition using CNN')\n",
    "#window.configure(background='white')"
   ]
  },
  {
   "cell_type": "code",
   "execution_count": 55,
   "id": "textile-adobe",
   "metadata": {},
   "outputs": [],
   "source": [
    "window.rowconfigure(0,weight=1)\n",
    "window.rowconfigure(1,weight=1)\n",
    "window.rowconfigure(2,weight=1)\n",
    "window.columnconfigure(0,weight=1)\n",
    "window.columnconfigure(1,weight=1)"
   ]
  },
  {
   "cell_type": "code",
   "execution_count": 56,
   "id": "binary-drove",
   "metadata": {},
   "outputs": [],
   "source": [
    "top_left = tk.Frame(window,width=400,height=300)\n",
    "top_right = tk.Frame(window, width=600,height=300)\n",
    "\n",
    "#top_middle = tk.Frame(window,width=200, height=300)\n",
    "\n",
    "middle_left = tk.Frame(window,width=400, height=300)\n",
    "#middle = tk.Frame(window,width=200,bg=\"blue\",height=300)\n",
    "\n",
    "middle_right = tk.Frame(window,width=600,height=300)\n",
    "\n",
    "\n",
    "\n",
    "fr_buttons = tk.Frame(window,width=1000,height=100)\n",
    "btn_open = tk.Button(fr_buttons, text=\"Open\",command = browseFiles)\n",
    "btn_pred = tk.Button(fr_buttons, text=\"Predict\",command = neural)"
   ]
  },
  {
   "cell_type": "code",
   "execution_count": 57,
   "id": "infectious-adobe",
   "metadata": {},
   "outputs": [],
   "source": [
    "btn_open.grid(row=2, column=1, sticky=\"ew\", padx=5, pady=5)\n",
    "btn_pred.grid(row=2, column=2, sticky=\"ew\", padx=10, pady=10)"
   ]
  },
  {
   "cell_type": "code",
   "execution_count": 58,
   "id": "prescribed-version",
   "metadata": {},
   "outputs": [],
   "source": [
    "fr_buttons.grid(row=2, column=0,sticky=\"ns\")\n",
    "\n",
    "top_left.grid(row=0, column=0,padx=0,pady=0,sticky=\"ns\")\n",
    "\n",
    "#top_middle.grid(row=0, column=1)\n",
    "\n",
    "top_right.grid(row=0, column=1)\n",
    "\n",
    "middle_left.grid(row=1, column=0)\n",
    "\n",
    "#middle.grid(row=1, column=1)\n",
    "\n",
    "middle_right.grid(row=1, column=1)"
   ]
  },
  {
   "cell_type": "code",
   "execution_count": 59,
   "id": "laughing-surprise",
   "metadata": {},
   "outputs": [],
   "source": [
    "label_main = tk.Label(top_right, text=\"Gait Recognition System using CNN\")\n",
    "label_main.config(font=(\"Times New Roman bold\", 18))\n",
    "label_main.pack()"
   ]
  },
  {
   "cell_type": "code",
   "execution_count": 60,
   "id": "literary-lightweight",
   "metadata": {},
   "outputs": [
    {
     "name": "stdout",
     "output_type": "stream",
     "text": [
      "0\n",
      "['C:', 'Users', 'Abhishek Sheth', 'Desktop', 'SAMPLES', '092-cl-02-090.png']\n",
      "[92]\n",
      "1\n",
      "['C:', 'Users', 'Abhishek Sheth', 'Desktop', 'SAMPLES', '092-bg-02-108.png']\n",
      "[92]\n",
      "2\n",
      "['C:', 'Users', 'Abhishek Sheth', 'Desktop', 'SAMPLES', '001-nm-06-072.png']\n",
      "[1]\n"
     ]
    }
   ],
   "source": [
    "window.mainloop()"
   ]
  },
  {
   "cell_type": "code",
   "execution_count": null,
   "id": "active-madrid",
   "metadata": {},
   "outputs": [],
   "source": []
  },
  {
   "cell_type": "code",
   "execution_count": null,
   "id": "induced-store",
   "metadata": {},
   "outputs": [],
   "source": []
  },
  {
   "cell_type": "code",
   "execution_count": null,
   "id": "extra-straight",
   "metadata": {},
   "outputs": [],
   "source": []
  },
  {
   "cell_type": "code",
   "execution_count": null,
   "id": "purple-bailey",
   "metadata": {},
   "outputs": [],
   "source": []
  },
  {
   "cell_type": "code",
   "execution_count": null,
   "id": "frequent-congo",
   "metadata": {},
   "outputs": [],
   "source": []
  }
 ],
 "metadata": {
  "kernelspec": {
   "display_name": "Python 3",
   "language": "python",
   "name": "python3"
  },
  "language_info": {
   "codemirror_mode": {
    "name": "ipython",
    "version": 3
   },
   "file_extension": ".py",
   "mimetype": "text/x-python",
   "name": "python",
   "nbconvert_exporter": "python",
   "pygments_lexer": "ipython3",
   "version": "3.8.8"
  }
 },
 "nbformat": 4,
 "nbformat_minor": 5
}
