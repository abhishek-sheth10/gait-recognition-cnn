{
 "cells": [
  {
   "cell_type": "code",
   "execution_count": 11,
   "metadata": {
    "scrolled": true
   },
   "outputs": [
    {
     "ename": "ModuleNotFoundError",
     "evalue": "No module named 'cv2'",
     "output_type": "error",
     "traceback": [
      "\u001b[1;31m---------------------------------------------------------------------------\u001b[0m",
      "\u001b[1;31mModuleNotFoundError\u001b[0m                       Traceback (most recent call last)",
      "\u001b[1;32m<ipython-input-11-753b763acbe1>\u001b[0m in \u001b[0;36m<module>\u001b[1;34m\u001b[0m\n\u001b[1;32m----> 1\u001b[1;33m \u001b[1;32mimport\u001b[0m \u001b[0mcv2\u001b[0m\u001b[1;33m\u001b[0m\u001b[1;33m\u001b[0m\u001b[0m\n\u001b[0m\u001b[0;32m      2\u001b[0m \u001b[1;32mimport\u001b[0m \u001b[0mdatetime\u001b[0m \u001b[1;32mas\u001b[0m \u001b[0mdt\u001b[0m\u001b[1;33m\u001b[0m\u001b[1;33m\u001b[0m\u001b[0m\n\u001b[0;32m      3\u001b[0m \u001b[1;32mimport\u001b[0m \u001b[0mglob\u001b[0m\u001b[1;33m\u001b[0m\u001b[1;33m\u001b[0m\u001b[0m\n\u001b[0;32m      4\u001b[0m \u001b[1;32mimport\u001b[0m \u001b[0mitertools\u001b[0m\u001b[1;33m\u001b[0m\u001b[1;33m\u001b[0m\u001b[0m\n\u001b[0;32m      5\u001b[0m \u001b[1;32mimport\u001b[0m \u001b[0mmatplotlib\u001b[0m\u001b[1;33m.\u001b[0m\u001b[0mpylab\u001b[0m \u001b[1;32mas\u001b[0m \u001b[0mplt\u001b[0m\u001b[1;33m\u001b[0m\u001b[1;33m\u001b[0m\u001b[0m\n",
      "\u001b[1;31mModuleNotFoundError\u001b[0m: No module named 'cv2'"
     ]
    }
   ],
   "source": [
    "import cv2\n",
    "import datetime as dt\n",
    "import glob\n",
    "import itertools\n",
    "import matplotlib.pylab as plt\n",
    "import numpy as np\n",
    "import pandas as pd\n",
    "\n",
    "import tensorflow as tf\n",
    "from tensorflow import keras\n",
    "from keras import layers\n",
    "from tensorflow.keras.models import Sequential\n",
    "from keras import models, layers, optimizers\n",
    "from tensorflow.keras.layers import Conv2D,MaxPooling2D,Dense,Dropout,Flatten, Reshape, Input, InputLayer\n",
    "#from keras.layers.convolutional import MaxPooling2D\n",
    "#from tensorflow.keras.layers import Dense,Dropout,Flatten, Reshape, Input, InputLayer\n",
    "from keras.utils import to_categorical\n",
    "from keras.regularizers import l2\n",
    "#from keras.layers import Dense, Flatten, Reshape, Input, InputLayer\n",
    "\n",
    "\n",
    "from keras.preprocessing.image import ImageDataGenerator\n",
    "from pathlib import Path\n",
    "from sklearn.metrics import confusion_matrix\n",
    "print (\"TensorFlow version: \" + tf.__version__)\n"
   ]
  },
  {
   "cell_type": "code",
   "execution_count": 5,
   "metadata": {},
   "outputs": [],
   "source": [
    "train_dir=r'F:\\\\GAIT RECOGNITION\\\\90degreegei\\\\train'\n",
    "test_dir = r'F:\\\\GAIT RECOGNITION\\\\90degreegei\\\\test'"
   ]
  },
  {
   "cell_type": "code",
   "execution_count": 3,
   "metadata": {},
   "outputs": [
    {
     "name": "stdout",
     "output_type": "stream",
     "text": [
      "(240, 240, 3)\n"
     ]
    },
    {
     "data": {
      "image/png": "[encoded data removed]",
      "text/plain": [
       "<Figure size 432x288 with 1 Axes>"
      ]
     },
     "metadata": {
      "needs_background": "light"
     },
     "output_type": "display_data"
    }
   ],
   "source": [
    "img = cv2.imread('F:\\\\GAIT RECOGNITION\\\\90degreegei\\\\train\\\\002\\\\002-nm-01-090.png')\n",
    "print(img.shape)\n",
    "plt.imshow(img);"
   ]
  },
  {
   "cell_type": "code",
   "execution_count": 4,
   "metadata": {},
   "outputs": [
    {
     "name": "stdout",
     "output_type": "stream",
     "text": [
      "Found 496 images belonging to 124 classes.\n",
      "Found 248 images belonging to 124 classes.\n"
     ]
    }
   ],
   "source": [
    "height=240\n",
    "width=240\n",
    "batch_size=32\n",
    "\n",
    "# Training generator\n",
    "train_datagen = ImageDataGenerator(rescale=1./255)\n",
    "train_generator = train_datagen.flow_from_directory(train_dir, \n",
    "                                                    target_size=(height,width),\n",
    "                                                    batch_size=batch_size,\n",
    "                                                    color_mode='grayscale',\n",
    "                                                    class_mode='categorical')\n",
    "\n",
    "# Test generator\n",
    "test_datagen = ImageDataGenerator(rescale=1./255)\n",
    "test_generator = test_datagen.flow_from_directory(test_dir, \n",
    "                                                  target_size=(height,width), \n",
    "                                                  batch_size=batch_size,\n",
    "                                                  color_mode='grayscale',\n",
    "                                                  shuffle = False,\n",
    "                                                  class_mode='categorical')"
   ]
  },
  {
   "cell_type": "code",
   "execution_count": 5,
   "metadata": {},
   "outputs": [
    {
     "name": "stdout",
     "output_type": "stream",
     "text": [
      "Model: \"sequential\"\n",
      "_________________________________________________________________\n",
      "Layer (type)                 Output Shape              Param #   \n",
      "=================================================================\n",
      "conv2d (Conv2D)              (None, 238, 238, 16)      160       \n",
      "_________________________________________________________________\n",
      "max_pooling2d (MaxPooling2D) (None, 119, 119, 16)      0         \n",
      "_________________________________________________________________\n",
      "conv2d_1 (Conv2D)            (None, 117, 117, 32)      4640      \n",
      "_________________________________________________________________\n",
      "max_pooling2d_1 (MaxPooling2 (None, 58, 58, 32)        0         \n",
      "_________________________________________________________________\n",
      "conv2d_2 (Conv2D)            (None, 56, 56, 64)        18496     \n",
      "_________________________________________________________________\n",
      "max_pooling2d_2 (MaxPooling2 (None, 28, 28, 64)        0         \n",
      "_________________________________________________________________\n",
      "flatten (Flatten)            (None, 50176)             0         \n",
      "_________________________________________________________________\n",
      "dense (Dense)                (None, 1024)              51381248  \n",
      "_________________________________________________________________\n",
      "dense_1 (Dense)              (None, 124)               127100    \n",
      "=================================================================\n",
      "Total params: 51,531,644\n",
      "Trainable params: 51,531,644\n",
      "Non-trainable params: 0\n",
      "_________________________________________________________________\n"
     ]
    }
   ],
   "source": [
    "model = Sequential()\n",
    "model.add(Conv2D(16, kernel_size=(3, 3),kernel_regularizer=l2(0.0005), bias_regularizer=l2(0.0005),activation='relu',input_shape=(240,240,1)))\n",
    "model.add(MaxPooling2D(pool_size=(2, 2)))\n",
    "model.add(Conv2D(32, (3, 3),kernel_regularizer=l2(0.0005), bias_regularizer=l2(0.0005), activation='relu'))\n",
    "model.add(MaxPooling2D(pool_size=(2, 2)))\n",
    "model.add(Conv2D(64, (3, 3),kernel_regularizer=l2(0.0005), bias_regularizer=l2(0.0005), activation='relu'))\n",
    "model.add(MaxPooling2D(pool_size=(2, 2)))\n",
    "#model.add(Conv2D(128, (3, 3),kernel_regularizer=l2(0.0001), bias_regularizer=l2(0.0001), activation='relu'))\n",
    "#model.add(MaxPooling2D(pool_size=(2, 2)))\n",
    "#model.add(Dropout(0.15))\n",
    "model.add(Flatten())\n",
    "model.add(Dense(1024,kernel_regularizer=l2(0.0005), bias_regularizer=l2(0.0005), activation='relu'))\n",
    "model.add(Dense(124,kernel_regularizer=l2(0.0005), bias_regularizer=l2(0.0005), activation='softmax'))\n",
    "\n",
    "\n",
    "model.compile(optimizer='adam',\n",
    "              loss='categorical_crossentropy',\n",
    "              metrics=['acc'])\n",
    "model.summary()"
   ]
  },
  {
   "cell_type": "code",
   "execution_count": 6,
   "metadata": {},
   "outputs": [
    {
     "name": "stdout",
     "output_type": "stream",
     "text": [
      "Train for 16 steps\n",
      "Epoch 1/20\n",
      "16/16 [==============================] - 15s 922ms/step - loss: 5.3829 - acc: 0.0081\n",
      "Epoch 2/20\n",
      "16/16 [==============================] - 1s 79ms/step - loss: 5.0539 - acc: 0.0464\n",
      "Epoch 3/20\n",
      "16/16 [==============================] - 1s 79ms/step - loss: 4.9190 - acc: 0.1028\n",
      "Epoch 4/20\n",
      "16/16 [==============================] - 1s 79ms/step - loss: 4.5259 - acc: 0.1169\n",
      "Epoch 5/20\n",
      "16/16 [==============================] - 1s 79ms/step - loss: 2.9446 - acc: 0.3851\n",
      "Epoch 6/20\n",
      "16/16 [==============================] - 1s 79ms/step - loss: 1.3378 - acc: 0.7520\n",
      "Epoch 7/20\n",
      "16/16 [==============================] - 1s 80ms/step - loss: 0.8278 - acc: 0.8750\n",
      "Epoch 8/20\n",
      "16/16 [==============================] - 1s 81ms/step - loss: 0.5181 - acc: 0.9597\n",
      "Epoch 9/20\n",
      "16/16 [==============================] - 1s 80ms/step - loss: 0.3939 - acc: 0.9738\n",
      "Epoch 10/20\n",
      "16/16 [==============================] - 1s 79ms/step - loss: 0.3390 - acc: 0.9859\n",
      "Epoch 11/20\n",
      "16/16 [==============================] - 1s 80ms/step - loss: 0.3030 - acc: 0.9960\n",
      "Epoch 12/20\n",
      "16/16 [==============================] - 1s 80ms/step - loss: 0.2873 - acc: 0.9940\n",
      "Epoch 13/20\n",
      "16/16 [==============================] - 1s 79ms/step - loss: 0.3024 - acc: 0.9798\n",
      "Epoch 14/20\n",
      "16/16 [==============================] - 1s 81ms/step - loss: 0.3204 - acc: 0.9859\n",
      "Epoch 15/20\n",
      "16/16 [==============================] - 1s 82ms/step - loss: 0.2355 - acc: 0.9960\n",
      "Epoch 16/20\n",
      "16/16 [==============================] - 1s 80ms/step - loss: 0.2081 - acc: 1.0000\n",
      "Epoch 17/20\n",
      "16/16 [==============================] - 1s 79ms/step - loss: 0.1947 - acc: 1.0000\n",
      "Epoch 18/20\n",
      "16/16 [==============================] - 1s 80ms/step - loss: 0.1813 - acc: 1.0000\n",
      "Epoch 19/20\n",
      "16/16 [==============================] - 1s 79ms/step - loss: 0.1705 - acc: 1.0000\n",
      "Epoch 20/20\n",
      "16/16 [==============================] - 1s 80ms/step - loss: 0.1613 - acc: 1.0000\n"
     ]
    }
   ],
   "source": [
    "history = model.fit(train_generator,  \n",
    "                    epochs=20\n",
    "                    )"
   ]
  },
  {
   "cell_type": "code",
   "execution_count": 7,
   "metadata": {},
   "outputs": [
    {
     "name": "stdout",
     "output_type": "stream",
     "text": [
      "8/8 [==============================] - 2s 269ms/step - loss: 0.3859 - acc: 0.9637\n",
      "[0.38593294098973274, 0.96370965]\n"
     ]
    }
   ],
   "source": [
    "test_acc = model.evaluate(test_generator,verbose=1)                  \n",
    "print(test_acc)"
   ]
  },
  {
   "cell_type": "code",
   "execution_count": 8,
   "metadata": {},
   "outputs": [],
   "source": [
    "model.save(\"model.h5\")"
   ]
  },
  {
   "cell_type": "code",
   "execution_count": null,
   "metadata": {},
   "outputs": [],
   "source": []
  }
 ],
 "metadata": {
  "kernelspec": {
   "display_name": "Python 3",
   "language": "python",
   "name": "python3"
  },
  "language_info": {
   "codemirror_mode": {
    "name": "ipython",
    "version": 3
   },
   "file_extension": ".py",
   "mimetype": "text/x-python",
   "name": "python",
   "nbconvert_exporter": "python",
   "pygments_lexer": "ipython3",
   "version": "3.7.6"
  }
 },
 "nbformat": 4,
 "nbformat_minor": 4
}
