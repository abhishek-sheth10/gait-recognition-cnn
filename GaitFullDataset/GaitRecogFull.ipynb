{
 "cells": [
  {
   "cell_type": "code",
   "execution_count": 12,
   "metadata": {},
   "outputs": [
    {
     "name": "stdout",
     "output_type": "stream",
     "text": [
      "TensorFlow version: 2.3.0\n"
     ]
    }
   ],
   "source": [
    "# import cv2\n",
    "import datetime as dt\n",
    "import glob\n",
    "import itertools\n",
    "import matplotlib.pylab as plt\n",
    "import numpy as np\n",
    "import pandas as pd\n",
    "\n",
    "import tensorflow as tf\n",
    "from tensorflow import keras\n",
    "# from keras import layers\n",
    "from tensorflow.keras.models import Sequential\n",
    "from tensorflow.keras import models, layers, optimizers\n",
    "from tensorflow.keras.layers import Conv2D,MaxPooling2D,Dense,Dropout,Flatten, Reshape, Input, InputLayer\n",
    "#from keras.layers.convolutional import MaxPooling2D\n",
    "#from tensorflow.keras.layers import Dense,Dropout,Flatten, Reshape, Input, InputLayer\n",
    "from tensorflow.keras.utils import to_categorical\n",
    "from tensorflow.keras.regularizers import l2\n",
    "#from keras.layers import Dense, Flatten, Reshape, Input, InputLayer\n",
    "\n",
    "\n",
    "from tensorflow.keras.preprocessing.image import ImageDataGenerator\n",
    "from pathlib import Path\n",
    "from sklearn.metrics import confusion_matrix\n",
    "print (\"TensorFlow version: \" + tf.__version__)\n"
   ]
  },
  {
   "cell_type": "code",
   "execution_count": 13,
   "metadata": {},
   "outputs": [],
   "source": [
    "train_dir=r'F:\\\\GAIT RECOGNITION\\\\fulldatasetwithcloth\\\\train'\n",
    "test_dir = r'F:\\\\GAIT RECOGNITION\\\\fulldatasetwithcloth\\\\test'"
   ]
  },
  {
   "cell_type": "code",
   "execution_count": 3,
   "metadata": {},
   "outputs": [
    {
     "name": "stdout",
     "output_type": "stream",
     "text": [
      "(240, 240, 3)\n"
     ]
    },
    {
     "data": {
      "image/png": "[encoded data removed]",
      "text/plain": [
       "<Figure size 432x288 with 1 Axes>"
      ]
     },
     "metadata": {
      "needs_background": "light"
     },
     "output_type": "display_data"
    }
   ],
   "source": [
    "img = cv2.imread('F:\\\\GAIT RECOGNITION\\\\fulldataset\\\\train\\\\002\\\\002-nm-01-000.png')\n",
    "print(img.shape)\n",
    "plt.imshow(img);"
   ]
  },
  {
   "cell_type": "code",
   "execution_count": 14,
   "metadata": {},
   "outputs": [
    {
     "name": "stdout",
     "output_type": "stream",
     "text": [
      "Found 7657 images belonging to 124 classes.\n",
      "Found 4945 images belonging to 124 classes.\n"
     ]
    }
   ],
   "source": [
    "height=240\n",
    "width=240\n",
    "batch_size=32\n",
    "\n",
    "# Training generator\n",
    "train_datagen = ImageDataGenerator(rescale=1./255)\n",
    "train_generator = train_datagen.flow_from_directory(train_dir, \n",
    "                                                    target_size=(height,width),\n",
    "                                                    batch_size=batch_size,\n",
    "                                                    color_mode='grayscale',\n",
    "                                                    class_mode='categorical')\n",
    "\n",
    "# Test generator\n",
    "test_datagen = ImageDataGenerator(rescale=1./255)\n",
    "test_generator = test_datagen.flow_from_directory(test_dir, \n",
    "                                                  target_size=(height,width), \n",
    "                                                  batch_size=batch_size,\n",
    "                                                  color_mode='grayscale',\n",
    "                                                  shuffle = False,\n",
    "                                                  class_mode='categorical')"
   ]
  },
  {
   "cell_type": "code",
   "execution_count": 15,
   "metadata": {},
   "outputs": [
    {
     "name": "stdout",
     "output_type": "stream",
     "text": [
      "Model: \"sequential_1\"\n",
      "_________________________________________________________________\n",
      "Layer (type)                 Output Shape              Param #   \n",
      "=================================================================\n",
      "conv2d_3 (Conv2D)            (None, 238, 238, 16)      160       \n",
      "_________________________________________________________________\n",
      "max_pooling2d_3 (MaxPooling2 (None, 119, 119, 16)      0         \n",
      "_________________________________________________________________\n",
      "conv2d_4 (Conv2D)            (None, 117, 117, 32)      4640      \n",
      "_________________________________________________________________\n",
      "max_pooling2d_4 (MaxPooling2 (None, 58, 58, 32)        0         \n",
      "_________________________________________________________________\n",
      "conv2d_5 (Conv2D)            (None, 56, 56, 64)        18496     \n",
      "_________________________________________________________________\n",
      "max_pooling2d_5 (MaxPooling2 (None, 28, 28, 64)        0         \n",
      "_________________________________________________________________\n",
      "flatten_1 (Flatten)          (None, 50176)             0         \n",
      "_________________________________________________________________\n",
      "dense_2 (Dense)              (None, 1024)              51381248  \n",
      "_________________________________________________________________\n",
      "dense_3 (Dense)              (None, 124)               127100    \n",
      "=================================================================\n",
      "Total params: 51,531,644\n",
      "Trainable params: 51,531,644\n",
      "Non-trainable params: 0\n",
      "_________________________________________________________________\n"
     ]
    }
   ],
   "source": [
    "model = Sequential()\n",
    "model.add(Conv2D(16, kernel_size=(3, 3),kernel_regularizer=l2(0.0005), bias_regularizer=l2(0.0005),activation='relu',input_shape=(240,240,1)))\n",
    "model.add(MaxPooling2D(pool_size=(2, 2)))\n",
    "model.add(Conv2D(32, (3, 3),kernel_regularizer=l2(0.0005), bias_regularizer=l2(0.0005), activation='relu'))\n",
    "model.add(MaxPooling2D(pool_size=(2, 2)))\n",
    "model.add(Conv2D(64, (3, 3),kernel_regularizer=l2(0.0005), bias_regularizer=l2(0.0005), activation='relu'))\n",
    "model.add(MaxPooling2D(pool_size=(2, 2)))\n",
    "#model.add(Conv2D(128, (3, 3),kernel_regularizer=l2(0.0001), bias_regularizer=l2(0.0001), activation='relu'))\n",
    "#model.add(MaxPooling2D(pool_size=(2, 2)))\n",
    "#model.add(Dropout(0.15))\n",
    "model.add(Flatten())\n",
    "model.add(Dense(1024,kernel_regularizer=l2(0.0005), bias_regularizer=l2(0.0005), activation='relu'))\n",
    "model.add(Dense(124,kernel_regularizer=l2(0.0005), bias_regularizer=l2(0.0005), activation='softmax'))\n",
    "\n",
    "\n",
    "model.compile(optimizer='adam',\n",
    "              loss='categorical_crossentropy',\n",
    "              metrics=['acc'])\n",
    "model.summary()"
   ]
  },
  {
   "cell_type": "code",
   "execution_count": 16,
   "metadata": {},
   "outputs": [
    {
     "name": "stdout",
     "output_type": "stream",
     "text": [
      "Epoch 1/10\n",
      "240/240 [==============================] - 174s 723ms/step - loss: 4.1640 - acc: 0.1396\n",
      "Epoch 2/10\n",
      "240/240 [==============================] - 165s 688ms/step - loss: 1.4492 - acc: 0.7149\n",
      "Epoch 3/10\n",
      "240/240 [==============================] - 165s 689ms/step - loss: 0.7732 - acc: 0.8938\n",
      "Epoch 4/10\n",
      "240/240 [==============================] - 165s 689ms/step - loss: 0.6034 - acc: 0.9361\n",
      "Epoch 5/10\n",
      "240/240 [==============================] - 165s 688ms/step - loss: 0.5350 - acc: 0.9555\n",
      "Epoch 6/10\n",
      "240/240 [==============================] - 165s 687ms/step - loss: 0.4836 - acc: 0.9602\n",
      "Epoch 7/10\n",
      "240/240 [==============================] - 165s 689ms/step - loss: 0.4932 - acc: 0.9546\n",
      "Epoch 8/10\n",
      "240/240 [==============================] - 166s 690ms/step - loss: 0.4935 - acc: 0.9579\n",
      "Epoch 9/10\n",
      "240/240 [==============================] - 165s 689ms/step - loss: 0.4101 - acc: 0.9751\n",
      "Epoch 10/10\n",
      "240/240 [==============================] - 165s 687ms/step - loss: 0.4004 - acc: 0.9728\n"
     ]
    }
   ],
   "source": [
    "history = model.fit(train_generator,  \n",
    "                    epochs=10\n",
    "                    )"
   ]
  },
  {
   "cell_type": "code",
   "execution_count": 17,
   "metadata": {},
   "outputs": [
    {
     "name": "stdout",
     "output_type": "stream",
     "text": [
      "155/155 [==============================] - 45s 292ms/step - loss: 0.6234 - acc: 0.9165\n",
      "[0.6233713626861572, 0.9164813160896301]\n"
     ]
    }
   ],
   "source": [
    "test_acc = model.evaluate(test_generator,verbose=1)                  \n",
    "print(test_acc)"
   ]
  },
  {
   "cell_type": "code",
   "execution_count": 18,
   "metadata": {},
   "outputs": [],
   "source": [
    "model.save(\"modelfullwithcloth.h5\")"
   ]
  },
  {
   "cell_type": "code",
   "execution_count": null,
   "metadata": {},
   "outputs": [],
   "source": []
  }
 ],
 "metadata": {
  "kernelspec": {
   "display_name": "Python 3",
   "language": "python",
   "name": "python3"
  },
  "language_info": {
   "codemirror_mode": {
    "name": "ipython",
    "version": 3
   },
   "file_extension": ".py",
   "mimetype": "text/x-python",
   "name": "python",
   "nbconvert_exporter": "python",
   "pygments_lexer": "ipython3",
   "version": "3.8.8"
  }
 },
 "nbformat": 4,
 "nbformat_minor": 4
}
